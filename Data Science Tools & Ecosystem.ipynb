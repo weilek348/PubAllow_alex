{
 "cells": [
  {
   "cell_type": "markdown",
   "id": "4802350e-a69c-4c23-940e-10ca454e1b80",
   "metadata": {},
   "source": [
    "# Data Science Tools and Ecosystem"
   ]
  },
  {
   "cell_type": "markdown",
   "id": "9a50459f-0abc-4424-8af5-0b0518bed0cd",
   "metadata": {},
   "source": [
    "In this notebook, Data Science Tools and Ecosystem are summarized."
   ]
  },
  {
   "cell_type": "markdown",
   "id": "bfddcc9d-75c9-49b3-9374-a019ad3719c0",
   "metadata": {
    "tags": []
   },
   "source": [
    "___Objectives:___\n",
    "1. Create a Jupyter Notebook with markdown and code cells\n",
    "2. List examples of languages, libraries and tools used in Data Science\n",
    "3. Share your Jupyter Notebook publicly on GitHub\n",
    "4. Evaluate notebooks submitted by your peers using the provided rubric\n",
    "5. Demonstrate proficiency in Data Science toolkit knowledge"
   ]
  },
  {
   "cell_type": "markdown",
   "id": "0187c6bd-fc59-459a-b6e1-ead2a5617fdc",
   "metadata": {
    "tags": []
   },
   "source": [
    "Some of the popular languages that Data Scientists use are:\n",
    "1. Python\n",
    "2. R\n",
    "3. SQL \n",
    "4. Julia\n",
    "5. Java & Java Script\n",
    "6. C & C++"
   ]
  },
  {
   "cell_type": "markdown",
   "id": "57fb2446-cafb-4f3f-a3ca-9450296b1371",
   "metadata": {
    "tags": []
   },
   "source": [
    "Some of the commonly used libraries used by Data Scientists include:\n",
    "1. Pandas\n",
    "2. Numpy\n",
    "3. Ggplot2\n",
    "4. dplyr\n",
    "5. Matplotlib\n",
    "6. caret"
   ]
  },
  {
   "cell_type": "markdown",
   "id": "6591fe21-27df-45f2-a394-09fdae6a28ff",
   "metadata": {},
   "source": [
    "|Data Science Tools|\n",
    "|-------|\n",
    "|Jupyter Lab|\n",
    "|VS Code|\n",
    "|R Studio|"
   ]
  },
  {
   "cell_type": "markdown",
   "id": "9f3a3c76-455b-42e3-a153-3891c5163608",
   "metadata": {
    "tags": []
   },
   "source": [
    "### Below are a few examples of evaluating arithmetic expressions in Python\n"
   ]
  },
  {
   "cell_type": "code",
   "execution_count": 8,
   "id": "cac11d5b-ff97-4158-918e-b826e2895574",
   "metadata": {
    "tags": []
   },
   "outputs": [
    {
     "data": {
      "text/plain": [
       "17"
      ]
     },
     "execution_count": 8,
     "metadata": {},
     "output_type": "execute_result"
    }
   ],
   "source": [
    "# This a simple arithmetic expression to mutiply then add integers\n",
    "(3*4)+5"
   ]
  },
  {
   "cell_type": "code",
   "execution_count": 9,
   "id": "ce7f58d7-a8fd-44c2-b7e7-1078fa79aabd",
   "metadata": {
    "tags": []
   },
   "outputs": [
    {
     "data": {
      "text/plain": [
       "3.3333333333333335"
      ]
     },
     "execution_count": 9,
     "metadata": {},
     "output_type": "execute_result"
    }
   ],
   "source": [
    "#This will convert 200 minutes to hours by diving by 60\n",
    "200/60"
   ]
  },
  {
   "cell_type": "markdown",
   "id": "8f2efb9c-cebe-4f26-8778-117c209ddc74",
   "metadata": {},
   "source": [
    "## Author\n",
    "Foong Wei Lek"
   ]
  },
  {
   "cell_type": "code",
   "execution_count": null,
   "id": "64a0f964-5515-46c8-b74c-11fb7fce64d2",
   "metadata": {},
   "outputs": [],
   "source": []
  }
 ],
 "metadata": {
  "kernelspec": {
   "display_name": "Python",
   "language": "python",
   "name": "conda-env-python-py"
  },
  "language_info": {
   "codemirror_mode": {
    "name": "ipython",
    "version": 3
   },
   "file_extension": ".py",
   "mimetype": "text/x-python",
   "name": "python",
   "nbconvert_exporter": "python",
   "pygments_lexer": "ipython3",
   "version": "3.7.12"
  }
 },
 "nbformat": 4,
 "nbformat_minor": 5
}
